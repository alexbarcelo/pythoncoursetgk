{
 "cells": [
  {
   "cell_type": "markdown",
   "metadata": {},
   "source": [
    "# Python Course - Comencem el \"hands-on\"\n",
    "<img src=\"http://www.telecogresca.com/logo_mail.png\"></img>\n",
    "## Exemples bàsics per anar fent boca...\n",
    "(Obtinguts de https://wiki.python.org/moin/SimplePrograms)\n"
   ]
  },
  {
   "cell_type": "code",
   "execution_count": null,
   "metadata": {
    "collapsed": false
   },
   "outputs": [],
   "source": [
    "# Output\n",
    "print(\"Hello world!\")"
   ]
  },
  {
   "cell_type": "code",
   "execution_count": null,
   "metadata": {
    "collapsed": false
   },
   "outputs": [],
   "source": [
    "# Basic string substitution\n",
    "name = \"Barceló\"\n",
    "print(\"Hola, %s!\" % name)"
   ]
  },
  {
   "cell_type": "code",
   "execution_count": null,
   "metadata": {
    "collapsed": false
   },
   "outputs": [],
   "source": [
    "# Una mica de llistes i `for`\n",
    "profes = ['Barceló', 'Alba', 'Arnau', 'Xavi']\n",
    "for i, name in enumerate(profes):\n",
    "    print(\"A la iteració #{iteration} tenim el profe `{name}`\".format(iteration=i, name=name))"
   ]
  },
  {
   "cell_type": "code",
   "execution_count": null,
   "metadata": {
    "collapsed": false
   },
   "outputs": [],
   "source": [
    "# Exemple de Fibonacci\n",
    "i, j = 0, 1\n",
    "while j < 100:\n",
    "    print('Valor actual %d' % j)\n",
    "    i, j = j, i+j"
   ]
  },
  {
   "cell_type": "code",
   "execution_count": null,
   "metadata": {
    "collapsed": false
   },
   "outputs": [],
   "source": [
    "# Funcions!\n",
    "\n",
    "def salutacio(name):\n",
    "    \"\"\"Exemple de definició de funció molt bàsica.\"\"\"\n",
    "    print('Benvingut', name)\n",
    "\n",
    "# Ara cridem a la funció amb diferents noms\n",
    "salutacio('Alice')\n",
    "salutacio('Bob')\n",
    "salutacio('Charlie')"
   ]
  },
  {
   "cell_type": "code",
   "execution_count": null,
   "metadata": {
    "collapsed": false
   },
   "outputs": [],
   "source": [
    "# Exemple d'ús d'expressions regulars\n",
    "import re  # importem el mòdul\n",
    "\n",
    "for test_string in ['555-1212', 'ILL-EGAL']:\n",
    "    if re.match(r'^\\d{3}-\\d{4}$', test_string):\n",
    "        print(test_string, 'is a valid US local phone number')\n",
    "    else:\n",
    "        print(test_string, 'rejected')"
   ]
  },
  {
   "cell_type": "code",
   "execution_count": null,
   "metadata": {
    "collapsed": true
   },
   "outputs": [],
   "source": []
  }
 ],
 "metadata": {
  "kernelspec": {
   "display_name": "Python 3",
   "language": "python",
   "name": "python3"
  },
  "language_info": {
   "codemirror_mode": {
    "name": "ipython",
    "version": 3
   },
   "file_extension": ".py",
   "mimetype": "text/x-python",
   "name": "python",
   "nbconvert_exporter": "python",
   "pygments_lexer": "ipython3",
   "version": "3.5.1"
  },
  "widgets": {
   "state": {},
   "version": "1.1.2"
  }
 },
 "nbformat": 4,
 "nbformat_minor": 0
}
