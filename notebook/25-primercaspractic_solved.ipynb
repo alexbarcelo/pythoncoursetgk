{
 "cells": [
  {
   "cell_type": "markdown",
   "metadata": {
    "collapsed": true
   },
   "source": [
    "# Python Course - Primer cas pràctic\n",
    "<img src=\"http://www.telecogresca.com/logo_mail.png\"></img>\n",
    "## Exercici fortament sintètic\n",
    "(En part de https://wiki.python.org/moin/SimplePrograms, en part collita pròpia)\n"
   ]
  },
  {
   "cell_type": "markdown",
   "metadata": {},
   "source": [
    "Considerem un diccionari de preus, amb productes bàsics:"
   ]
  },
  {
   "cell_type": "code",
   "execution_count": null,
   "metadata": {
    "collapsed": true
   },
   "outputs": [],
   "source": [
    "prices = {'apple': 0.40, 'banana': 0.50, 'entrada_promocional': 10, 'entrada_simple': 17}"
   ]
  },
  {
   "cell_type": "markdown",
   "metadata": {},
   "source": [
    "I considerem una llista d'objectes que ha comprat un cert \"client\""
   ]
  },
  {
   "cell_type": "code",
   "execution_count": null,
   "metadata": {
    "collapsed": true
   },
   "outputs": [],
   "source": [
    "compra_marcos = [\n",
    "    'apple',\n",
    "    'banana',\n",
    "    'apple',\n",
    "    'entrada_promocional',\n",
    "    'apple',\n",
    "    'banana',\n",
    "    'entrada_promocional',  # segur que voldrà un canvi de nom d'aquesta\n",
    "]"
   ]
  },
  {
   "cell_type": "markdown",
   "metadata": {},
   "source": [
    "## Step 1: Compra del client\n",
    "Imaginem que volem saber de forma una mica més ben estructurada què ha comprat aquest client.\n",
    "\n",
    "### Primera versió - C++ programmer fent desastres"
   ]
  },
  {
   "cell_type": "code",
   "execution_count": null,
   "metadata": {
    "collapsed": false
   },
   "outputs": [],
   "source": [
    "result = dict()\n",
    "\n",
    "for i in range(len(compra_marcos)):\n",
    "    producte = compra_marcos[i]\n",
    "    previous_value = result.get(producte)\n",
    "    if previous_value == None:\n",
    "        result[producte] = 1\n",
    "    else:\n",
    "        result[producte] = previous_value + 1\n",
    "\n",
    "result"
   ]
  },
  {
   "cell_type": "markdown",
   "metadata": {},
   "source": [
    "### Segona versió - Ara com a mínim sap Python"
   ]
  },
  {
   "cell_type": "code",
   "execution_count": null,
   "metadata": {
    "collapsed": false
   },
   "outputs": [],
   "source": [
    "result = dict()\n",
    "\n",
    "for producte in compra_marcos:\n",
    "    if producte not in result:\n",
    "        result[producte] = 1\n",
    "    else:\n",
    "        result[producte] += 1\n",
    "\n",
    "result"
   ]
  },
  {
   "cell_type": "markdown",
   "metadata": {},
   "source": [
    "### Tercera versió - No reinventeu la roda"
   ]
  },
  {
   "cell_type": "code",
   "execution_count": null,
   "metadata": {
    "collapsed": false
   },
   "outputs": [],
   "source": [
    "from collections import Counter\n",
    "\n",
    "result = Counter(compra_marcos)\n",
    "result"
   ]
  },
  {
   "cell_type": "markdown",
   "metadata": {},
   "source": [
    "## Step 2: Càlcul del total\n",
    "\n",
    "Ara volem calcular el total de la compra del client.\n",
    "\n",
    "### Primera versió - Somewhat Python"
   ]
  },
  {
   "cell_type": "code",
   "execution_count": null,
   "metadata": {
    "collapsed": false
   },
   "outputs": [],
   "source": [
    "total = 0\n",
    "\n",
    "for producte, quantitat in result.items():\n",
    "    total += prices[producte] * quantitat\n",
    "    \n",
    "total"
   ]
  },
  {
   "cell_type": "markdown",
   "metadata": {},
   "source": [
    "### Segona versió - Now with comprehensions!"
   ]
  },
  {
   "cell_type": "code",
   "execution_count": null,
   "metadata": {
    "collapsed": false
   },
   "outputs": [],
   "source": [
    "total = sum(prices[producte] * quantitat for producte, quantitat in result.items())\n",
    "total"
   ]
  }
 ],
 "metadata": {
  "kernelspec": {
   "display_name": "Python 3",
   "language": "python",
   "name": "python3"
  },
  "language_info": {
   "codemirror_mode": {
    "name": "ipython",
    "version": 3
   },
   "file_extension": ".py",
   "mimetype": "text/x-python",
   "name": "python",
   "nbconvert_exporter": "python",
   "pygments_lexer": "ipython3",
   "version": "3.5.1"
  },
  "widgets": {
   "state": {},
   "version": "1.1.2"
  }
 },
 "nbformat": 4,
 "nbformat_minor": 0
}
